{
 "cells": [
  {
   "cell_type": "markdown",
   "metadata": {},
   "source": [
    "## cv2.cornerHarris()"
   ]
  },
  {
   "cell_type": "code",
   "execution_count": 1,
   "metadata": {},
   "outputs": [
    {
     "name": "stdout",
     "output_type": "stream",
     "text": [
      "[[ 1.08847627e-02  1.08847627e-02  7.05834012e-03 ...  9.04551591e-04\n",
      "   6.71540480e-03  1.03765205e-02]\n",
      " [ 1.08847627e-02  1.08847627e-02  7.05834012e-03 ...  9.04551591e-04\n",
      "   6.71540480e-03  1.03765205e-02]\n",
      " [ 7.01445434e-03  7.01445434e-03 -1.62149256e-03 ... -3.47012319e-05\n",
      "  -1.26570533e-03  8.02386738e-03]\n",
      " ...\n",
      " [ 2.66916817e-04  2.66916817e-04 -3.55385710e-04 ... -7.29444483e-03\n",
      "  -2.16230750e-03 -2.25233729e-03]\n",
      " [-1.16852974e-03 -1.16852974e-03 -1.57433597e-03 ... -3.37590394e-03\n",
      "  -1.58049283e-03 -1.78783922e-03]\n",
      " [ 1.16311916e-04  1.16311916e-04  6.49651411e-05 ...  6.76728769e-06\n",
      "   5.30541183e-05  6.38944693e-05]]\n"
     ]
    }
   ],
   "source": [
    "import cv2 as cv\n",
    "\n",
    "if __name__ == \"__main__\":\n",
    "\n",
    "    blockSize = 2   # \n",
    "    apertureSize = 3\n",
    "    k = 0.04\n",
    "\n",
    "    src = cv.imread(\"C:\\\\Users\\\\Autonav\\\\github_repo\\\\ComputerVision\\\\BasicExercise_py\\\\building.jpg\")\n",
    "    src_gray = cv.cvtColor(src, cv.COLOR_BGR2GRAY)\n",
    "    # Detecting corners\n",
    "    dst = cv.cornerHarris(src_gray, blockSize, apertureSize, k) # grayscale image(float32이어야 함), 코너 검출을 위해 고려할 이웃 픽셀의 범위, Sobel 미분에 사용되는 인자값, Harris corner 검출 수학식 R에서 k값  \n",
    "    print(dst)  # cv2.cornerHarris 단독으로는 이미지 픽셀 좌표값으로 바로 안나옴.\n",
    "                # -> cv2.normalize로 정규화를 거친다."
   ]
  },
  {
   "cell_type": "markdown",
   "metadata": {},
   "source": [
    "## cv2.normalize"
   ]
  },
  {
   "cell_type": "code",
   "execution_count": 2,
   "metadata": {},
   "outputs": [
    {
     "name": "stdout",
     "output_type": "stream",
     "text": [
      "(262, 300)\n",
      "[[213.47272  213.47272  180.36774  ... 127.127144 177.40077  209.07556 ]\n",
      " [213.47272  213.47272  180.36774  ... 127.127144 177.40077  209.07556 ]\n",
      " [179.98805  179.98805  105.27262  ... 119.00103  108.35078  188.72118 ]\n",
      " ...\n",
      " [121.610535 121.610535 116.22657  ...  56.19207  100.593666  99.81476 ]\n",
      " [109.19151  109.19151  105.6806   ...  90.094025 105.62734  103.83344 ]\n",
      " [120.30755  120.30755  119.86331  ... 119.3598   119.76026  119.85405 ]]\n"
     ]
    }
   ],
   "source": [
    "import numpy as np\n",
    "\n",
    "if __name__ == \"__main__\":\n",
    "    dst_norm = np.empty(dst.shape, dtype=np.float32)\n",
    "    print(dst.shape)\n",
    "    cv.normalize(dst, dst_norm, alpha=0, beta=255, norm_type=cv.NORM_MINMAX)    # 정규화 이전의 데이터, 정규화 이후의 데이터 ,정규화 구간 1, 정규화 구간2, 정규화 알고리즘 플래그 상수(cv.NORM_MINMAX는 alpha~beta 구간으로 정규화)\n",
    "    print(dst_norm)"
   ]
  },
  {
   "cell_type": "markdown",
   "metadata": {},
   "source": [
    "## cv2.convertScaleAbs"
   ]
  },
  {
   "cell_type": "code",
   "execution_count": 4,
   "metadata": {},
   "outputs": [
    {
     "name": "stdout",
     "output_type": "stream",
     "text": [
      "[[213 213 180 ... 127 177 209]\n",
      " [213 213 180 ... 127 177 209]\n",
      " [180 180 105 ... 119 108 189]\n",
      " ...\n",
      " [122 122 116 ...  56 101 100]\n",
      " [109 109 106 ...  90 106 104]\n",
      " [120 120 120 ... 119 120 120]]\n"
     ]
    }
   ],
   "source": [
    "dst_norm_scaled = cv.convertScaleAbs(dst_norm)\n",
    "print(dst_norm_scaled)"
   ]
  }
 ],
 "metadata": {
  "kernelspec": {
   "display_name": "base",
   "language": "python",
   "name": "python3"
  },
  "language_info": {
   "codemirror_mode": {
    "name": "ipython",
    "version": 3
   },
   "file_extension": ".py",
   "mimetype": "text/x-python",
   "name": "python",
   "nbconvert_exporter": "python",
   "pygments_lexer": "ipython3",
   "version": "3.11.4"
  },
  "orig_nbformat": 4
 },
 "nbformat": 4,
 "nbformat_minor": 2
}
